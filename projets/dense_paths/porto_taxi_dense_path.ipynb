{
  "nbformat": 4,
  "nbformat_minor": 0,
  "metadata": {
    "colab": {
      "name": "porto_taxi_dense_path.ipynb",
      "provenance": [],
      "collapsed_sections": [
        "UEKDSno9K8ho",
        "nTV_jsctLAeb",
        "8iYoEd0QLFto",
        "D1Q4QkCkMGB4",
        "ePFmU8vvM-jW",
        "jZhrt8-UOcTR",
        "1y6xRSyvTGVF",
        "qkrOg6G0Uw_w"
      ],
      "toc_visible": true
    },
    "kernelspec": {
      "name": "python3",
      "display_name": "Python 3"
    }
  },
  "cells": [
    {
      "cell_type": "markdown",
      "metadata": {
        "id": "UEKDSno9K8ho",
        "colab_type": "text"
      },
      "source": [
        "# Instalando os pacotes faltantes"
      ]
    },
    {
      "cell_type": "code",
      "metadata": {
        "id": "nHXQXSSzK6VS",
        "colab_type": "code",
        "colab": {}
      },
      "source": [
        "!apt install libspatialindex-dev\n",
        "!pip install osmnx"
      ],
      "execution_count": 0,
      "outputs": []
    },
    {
      "cell_type": "markdown",
      "metadata": {
        "id": "nTV_jsctLAeb",
        "colab_type": "text"
      },
      "source": [
        "# Baixando os dados"
      ]
    },
    {
      "cell_type": "markdown",
      "metadata": {
        "id": "hlSRgr9z83GO",
        "colab_type": "text"
      },
      "source": [
        "[Porto Taxi Service Trajectory](https://archive.ics.uci.edu/ml/datasets/Taxi+Service+Trajectory+-+Prediction+Challenge,+ECML+PKDD+2015)"
      ]
    },
    {
      "cell_type": "code",
      "metadata": {
        "id": "bZzKyTzzUXwz",
        "colab_type": "code",
        "colab": {}
      },
      "source": [
        "!wget -O porto.zip 'https://archive.ics.uci.edu/ml/machine-learning-databases/00339/train.csv.zip'"
      ],
      "execution_count": 0,
      "outputs": []
    },
    {
      "cell_type": "code",
      "metadata": {
        "id": "Ul22E9cEf3AX",
        "colab_type": "code",
        "colab": {}
      },
      "source": [
        "!unzip porto.zip"
      ],
      "execution_count": 0,
      "outputs": []
    },
    {
      "cell_type": "markdown",
      "metadata": {
        "id": "8iYoEd0QLFto",
        "colab_type": "text"
      },
      "source": [
        "# Importando bibliotecas necessárias"
      ]
    },
    {
      "cell_type": "markdown",
      "metadata": {
        "id": "qdczBF6TLPwX",
        "colab_type": "text"
      },
      "source": [
        "* [Pandas](https://pandas.pydata.org/)\n",
        "* [GeoPandas](https://geopandas.org/)\n",
        "* [OSMNX](https://osmnx.readthedocs.io/en/stable/index.html)\n",
        "* [tqdm](https://tqdm.github.io/)"
      ]
    },
    {
      "cell_type": "code",
      "metadata": {
        "id": "Ov0nqKZ9X1pJ",
        "colab_type": "code",
        "colab": {}
      },
      "source": [
        "import pandas as pd\n",
        "import geopandas as gpd\n",
        "import osmnx as ox\n",
        "from tqdm import tqdm"
      ],
      "execution_count": 0,
      "outputs": []
    },
    {
      "cell_type": "markdown",
      "metadata": {
        "id": "D1Q4QkCkMGB4",
        "colab_type": "text"
      },
      "source": [
        "# Processamento dos dados"
      ]
    },
    {
      "cell_type": "code",
      "metadata": {
        "id": "pwM_rpmqZhd1",
        "colab_type": "code",
        "colab": {}
      },
      "source": [
        "df = pd.read_csv('train.csv', nrows=1_000)"
      ],
      "execution_count": 0,
      "outputs": []
    },
    {
      "cell_type": "code",
      "metadata": {
        "id": "YDbzZUea8oeu",
        "colab_type": "code",
        "colab": {}
      },
      "source": [
        "df.head()"
      ],
      "execution_count": 0,
      "outputs": []
    },
    {
      "cell_type": "code",
      "metadata": {
        "id": "X5AL01pB9GBt",
        "colab_type": "code",
        "colab": {}
      },
      "source": [
        "df['POLYLINE'][0]"
      ],
      "execution_count": 0,
      "outputs": []
    },
    {
      "cell_type": "code",
      "metadata": {
        "id": "nlzcfCpk9YUQ",
        "colab_type": "code",
        "colab": {}
      },
      "source": [
        "df[df['POLYLINE'] == '[]']"
      ],
      "execution_count": 0,
      "outputs": []
    },
    {
      "cell_type": "code",
      "metadata": {
        "id": "EvDncfp47OgW",
        "colab_type": "code",
        "colab": {}
      },
      "source": [
        "df = df[df['POLYLINE'] != '[]']"
      ],
      "execution_count": 0,
      "outputs": []
    },
    {
      "cell_type": "code",
      "metadata": {
        "id": "x8BzdkjIlcgQ",
        "colab_type": "code",
        "colab": {}
      },
      "source": [
        "def get_trajectories_points(df):\n",
        "    lat = []\n",
        "    lon = []\n",
        "    for p in df['POLYLINE'].values:\n",
        "        coords = p[2:-2].split('],[')\n",
        "        for c in coords:\n",
        "            point = c.split(',')\n",
        "            lon.append(float(point[0]))\n",
        "            lat.append(float(point[1]))\n",
        "    return pd.DataFrame({'x': lon, 'y': lat})"
      ],
      "execution_count": 0,
      "outputs": []
    },
    {
      "cell_type": "code",
      "metadata": {
        "id": "z2SXZEIJqZNu",
        "colab_type": "code",
        "colab": {}
      },
      "source": [
        "data = get_trajectories_points(df)"
      ],
      "execution_count": 0,
      "outputs": []
    },
    {
      "cell_type": "code",
      "metadata": {
        "id": "U9GyRXYx95Bv",
        "colab_type": "code",
        "colab": {}
      },
      "source": [
        "data"
      ],
      "execution_count": 0,
      "outputs": []
    },
    {
      "cell_type": "markdown",
      "metadata": {
        "id": "ePFmU8vvM-jW",
        "colab_type": "text"
      },
      "source": [
        "# Grafo da rede de tráfego"
      ]
    },
    {
      "cell_type": "code",
      "metadata": {
        "id": "1Npc7iAFp2SV",
        "colab_type": "code",
        "colab": {}
      },
      "source": [
        "def get_graph_from_place(place, nw, w):\n",
        "    G = ox.graph_from_place(place, network_type=nw, which_result=w)\n",
        "    N, E = ox.graph_to_gdfs(G, nodes=True, edges=True)\n",
        "    return G, N, E"
      ],
      "execution_count": 0,
      "outputs": []
    },
    {
      "cell_type": "code",
      "metadata": {
        "id": "AnEX1nUphra-",
        "colab_type": "code",
        "colab": {}
      },
      "source": [
        "G, N, E = get_graph_from_place('Porto, Portugal', 'drive', 2)"
      ],
      "execution_count": 0,
      "outputs": []
    },
    {
      "cell_type": "code",
      "metadata": {
        "id": "xO5JEwIBja-f",
        "colab_type": "code",
        "colab": {}
      },
      "source": [
        "ox.plot_graph(G)"
      ],
      "execution_count": 0,
      "outputs": []
    },
    {
      "cell_type": "code",
      "metadata": {
        "id": "ScZYpDdo-f9C",
        "colab_type": "code",
        "colab": {}
      },
      "source": [
        "N.head()"
      ],
      "execution_count": 0,
      "outputs": []
    },
    {
      "cell_type": "code",
      "metadata": {
        "id": "h8EmIIIx_Ctg",
        "colab_type": "code",
        "colab": {}
      },
      "source": [
        "E.head()"
      ],
      "execution_count": 0,
      "outputs": []
    },
    {
      "cell_type": "code",
      "metadata": {
        "id": "Ll9i_H1UKGJi",
        "colab_type": "code",
        "colab": {}
      },
      "source": [
        "E['index'] = E.index\n",
        "E['density'] = 1\n",
        "E.drop(\n",
        "    labels=['lanes', 'ref', 'maxspeed', 'access', 'width', \n",
        "            'tunnel', 'bridge', 'junction', 'area', 'service'], \n",
        "    axis=1, inplace=True\n",
        ")"
      ],
      "execution_count": 0,
      "outputs": []
    },
    {
      "cell_type": "code",
      "metadata": {
        "id": "tJUIJmtIKuw2",
        "colab_type": "code",
        "colab": {}
      },
      "source": [
        "E.head()"
      ],
      "execution_count": 0,
      "outputs": []
    },
    {
      "cell_type": "code",
      "metadata": {
        "id": "Nb6048hpOXnc",
        "colab_type": "code",
        "colab": {}
      },
      "source": [
        "N.shape, E.shape"
      ],
      "execution_count": 0,
      "outputs": []
    },
    {
      "cell_type": "markdown",
      "metadata": {
        "id": "jZhrt8-UOcTR",
        "colab_type": "text"
      },
      "source": [
        "# [Map matching](https://www.wikiwand.com/en/Map_matching)"
      ]
    },
    {
      "cell_type": "code",
      "metadata": {
        "id": "d9KoLvE_nO_A",
        "colab_type": "code",
        "colab": {}
      },
      "source": [
        "def get_nearest_edges_from_dataframe(df):\n",
        "    nearest_edges = ox.geo_utils.get_nearest_edges(\n",
        "        G, \n",
        "        df['x'].values, df['y'].values, \n",
        "        method='balltree'\n",
        "    )\n",
        "    return nearest_edges"
      ],
      "execution_count": 0,
      "outputs": []
    },
    {
      "cell_type": "code",
      "metadata": {
        "id": "ZBb7Q-zdpQGJ",
        "colab_type": "code",
        "colab": {}
      },
      "source": [
        "nearest_edges = get_nearest_edges_from_dataframe(data)"
      ],
      "execution_count": 0,
      "outputs": []
    },
    {
      "cell_type": "code",
      "metadata": {
        "id": "iqwcYnUIrKvK",
        "colab_type": "code",
        "colab": {}
      },
      "source": [
        "nearest_edges, len(nearest_edges)"
      ],
      "execution_count": 0,
      "outputs": []
    },
    {
      "cell_type": "code",
      "metadata": {
        "id": "iKYGA3jDpb0U",
        "colab_type": "code",
        "colab": {}
      },
      "source": [
        "ox.plot_graph_routes(G, nearest_edges, route_linewidth=2, route_color='blue',\n",
        "                     orig_dest_node_size=25, orig_dest_node_color='green')"
      ],
      "execution_count": 0,
      "outputs": []
    },
    {
      "cell_type": "code",
      "metadata": {
        "id": "tqi6UfXprkbY",
        "colab_type": "code",
        "colab": {}
      },
      "source": [
        "def get_new_edges(nearest_edges):\n",
        "    edges = []\n",
        "    for u, v in tqdm(nearest_edges):\n",
        "        edges.append(E[(E['u'] == u) & (E['v'] == v)].sort_values(by='length').values[0])\n",
        "    new_E = gpd.GeoDataFrame(edges, columns=E.columns)\n",
        "    return new_E"
      ],
      "execution_count": 0,
      "outputs": []
    },
    {
      "cell_type": "code",
      "metadata": {
        "id": "OSkZTrGkrsbf",
        "colab_type": "code",
        "colab": {}
      },
      "source": [
        "new_E = get_new_edges(nearest_edges)"
      ],
      "execution_count": 0,
      "outputs": []
    },
    {
      "cell_type": "code",
      "metadata": {
        "id": "zYVDby8lDH-L",
        "colab_type": "code",
        "colab": {}
      },
      "source": [
        "new_E.shape"
      ],
      "execution_count": 0,
      "outputs": []
    },
    {
      "cell_type": "markdown",
      "metadata": {
        "id": "1y6xRSyvTGVF",
        "colab_type": "text"
      },
      "source": [
        "# Dense paths"
      ]
    },
    {
      "cell_type": "code",
      "metadata": {
        "id": "nmiIRYUEDYk8",
        "colab_type": "code",
        "colab": {}
      },
      "source": [
        "new_E_dropped = new_E.drop_duplicates(['index']).copy()"
      ],
      "execution_count": 0,
      "outputs": []
    },
    {
      "cell_type": "code",
      "metadata": {
        "id": "oMv7lJf_DjSI",
        "colab_type": "code",
        "colab": {}
      },
      "source": [
        "new_E_dropped.shape"
      ],
      "execution_count": 0,
      "outputs": []
    },
    {
      "cell_type": "code",
      "metadata": {
        "id": "ZHeCSdT3Dl4W",
        "colab_type": "code",
        "colab": {}
      },
      "source": [
        "new_E_dense = new_E.groupby('index').sum()"
      ],
      "execution_count": 0,
      "outputs": []
    },
    {
      "cell_type": "code",
      "metadata": {
        "id": "5g5Q2on0Dolu",
        "colab_type": "code",
        "colab": {}
      },
      "source": [
        "new_E_dense"
      ],
      "execution_count": 0,
      "outputs": []
    },
    {
      "cell_type": "code",
      "metadata": {
        "id": "NxVXTMxtEAYV",
        "colab_type": "code",
        "colab": {}
      },
      "source": [
        "new_E_dropped.head()"
      ],
      "execution_count": 0,
      "outputs": []
    },
    {
      "cell_type": "code",
      "metadata": {
        "id": "pHEKgtGTDoMN",
        "colab_type": "code",
        "colab": {}
      },
      "source": [
        "new_E_dropped['density'] = new_E_dropped['index'].apply(lambda x: new_E_dense.loc[x]['density'])"
      ],
      "execution_count": 0,
      "outputs": []
    },
    {
      "cell_type": "code",
      "metadata": {
        "id": "5c-K8Rj-ERet",
        "colab_type": "code",
        "colab": {}
      },
      "source": [
        "new_E_dropped.head()"
      ],
      "execution_count": 0,
      "outputs": []
    },
    {
      "cell_type": "code",
      "metadata": {
        "id": "dm_ym9a_EmJn",
        "colab_type": "code",
        "colab": {}
      },
      "source": [
        "new_E_dropped.shape, new_E_dropped[new_E_dropped['density'] >= 50].shape"
      ],
      "execution_count": 0,
      "outputs": []
    },
    {
      "cell_type": "code",
      "metadata": {
        "id": "VMaasyo-s5s-",
        "colab_type": "code",
        "colab": {}
      },
      "source": [
        "def get_dense_paths(new_E, thresh):\n",
        "    new_E_dropped = new_E.drop_duplicates(['index']).copy()\n",
        "    new_E_dense = new_E.groupby('index').sum()\n",
        "    new_E_dropped['density'] = new_E_dropped['index'].apply(lambda x: new_E_dense.loc[x]['density'])\n",
        "    new_E_dropped = new_E_dropped[new_E_dropped['density'] >= thresh]\n",
        "    return new_E_dropped"
      ],
      "execution_count": 0,
      "outputs": []
    },
    {
      "cell_type": "code",
      "metadata": {
        "id": "STuAHO5lryJf",
        "colab_type": "code",
        "colab": {}
      },
      "source": [
        "new_E_dense = get_dense_paths(new_E, 50)"
      ],
      "execution_count": 0,
      "outputs": []
    },
    {
      "cell_type": "code",
      "metadata": {
        "id": "UXxEEEgztTVB",
        "colab_type": "code",
        "colab": {}
      },
      "source": [
        "def save_new_graph(new_E):\n",
        "    new_G = ox.gdfs_to_graph(N, new_E)\n",
        "    return new_G"
      ],
      "execution_count": 0,
      "outputs": []
    },
    {
      "cell_type": "code",
      "metadata": {
        "id": "S6JOzT5-tmVt",
        "colab_type": "code",
        "colab": {}
      },
      "source": [
        "dense_G = save_new_graph(new_E_dense)"
      ],
      "execution_count": 0,
      "outputs": []
    },
    {
      "cell_type": "code",
      "metadata": {
        "id": "40W3IctduRO3",
        "colab_type": "code",
        "colab": {}
      },
      "source": [
        "ox.plot_graph(dense_G, edge_color='red', node_color='lightgray')"
      ],
      "execution_count": 0,
      "outputs": []
    },
    {
      "cell_type": "markdown",
      "metadata": {
        "id": "qkrOg6G0Uw_w",
        "colab_type": "text"
      },
      "source": [
        "# Mapa interativo"
      ]
    },
    {
      "cell_type": "code",
      "metadata": {
        "id": "NIMb_pb4HV6C",
        "colab_type": "code",
        "colab": {}
      },
      "source": [
        "routes_G = save_new_graph(new_E)"
      ],
      "execution_count": 0,
      "outputs": []
    },
    {
      "cell_type": "code",
      "metadata": {
        "id": "-3nTt8Q4HFiS",
        "colab_type": "code",
        "colab": {}
      },
      "source": [
        "m = ox.plot_graph_folium(routes_G, edge_color='gray', edge_width=1)"
      ],
      "execution_count": 0,
      "outputs": []
    },
    {
      "cell_type": "code",
      "metadata": {
        "id": "K3IUCNmRJAft",
        "colab_type": "code",
        "colab": {}
      },
      "source": [
        "dm = ox.plot_graph_folium(dense_G, m, popup_attribute='density',\n",
        "                          edge_width=5, edge_color='red')"
      ],
      "execution_count": 0,
      "outputs": []
    },
    {
      "cell_type": "code",
      "metadata": {
        "id": "OXFbwuRTJVSP",
        "colab_type": "code",
        "colab": {}
      },
      "source": [
        "dm.save('porto_taxi_dense_paths_map.html')"
      ],
      "execution_count": 0,
      "outputs": []
    },
    {
      "cell_type": "code",
      "metadata": {
        "id": "NwngPPf8Vccx",
        "colab_type": "code",
        "colab": {}
      },
      "source": [
        ""
      ],
      "execution_count": 0,
      "outputs": []
    }
  ]
}